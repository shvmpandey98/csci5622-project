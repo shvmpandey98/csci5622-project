{
 "cells": [
  {
   "cell_type": "markdown",
   "metadata": {},
   "source": [
    "## Principal Component Analysis (PCA)"
   ]
  },
  {
   "cell_type": "code",
   "execution_count": 8,
   "metadata": {},
   "outputs": [],
   "source": [
    "# Importing the libraries\n",
    "\n",
    "import pandas as pd\n",
    "import numpy as np\n",
    "import matplotlib.pyplot as plt\n",
    "import seaborn as sns\n",
    "\n",
    "# Importing the libraries for PCA\n",
    "from sklearn.decomposition import PCA\n",
    "from sklearn.preprocessing import StandardScaler\n"
   ]
  },
  {
   "cell_type": "code",
   "execution_count": 2,
   "metadata": {},
   "outputs": [
    {
     "data": {
      "text/html": [
       "<div>\n",
       "<style scoped>\n",
       "    .dataframe tbody tr th:only-of-type {\n",
       "        vertical-align: middle;\n",
       "    }\n",
       "\n",
       "    .dataframe tbody tr th {\n",
       "        vertical-align: top;\n",
       "    }\n",
       "\n",
       "    .dataframe thead th {\n",
       "        text-align: right;\n",
       "    }\n",
       "</style>\n",
       "<table border=\"1\" class=\"dataframe\">\n",
       "  <thead>\n",
       "    <tr style=\"text-align: right;\">\n",
       "      <th></th>\n",
       "      <th>date</th>\n",
       "      <th>precip</th>\n",
       "      <th>max_temp</th>\n",
       "      <th>min_temp</th>\n",
       "      <th>gwl</th>\n",
       "      <th>sm_20cm</th>\n",
       "      <th>st_20cm</th>\n",
       "      <th>sm_50cm</th>\n",
       "      <th>st_50cm</th>\n",
       "      <th>sm_100cm</th>\n",
       "      <th>st_100cm</th>\n",
       "      <th>daily_discharge_cfs</th>\n",
       "    </tr>\n",
       "  </thead>\n",
       "  <tbody>\n",
       "    <tr>\n",
       "      <th>85</th>\n",
       "      <td>2010-02-14</td>\n",
       "      <td>0.0</td>\n",
       "      <td>36</td>\n",
       "      <td>13</td>\n",
       "      <td>20.52</td>\n",
       "      <td>0.205500</td>\n",
       "      <td>0.408333</td>\n",
       "      <td>0.182875</td>\n",
       "      <td>1.320833</td>\n",
       "      <td>0.135333</td>\n",
       "      <td>3.700000</td>\n",
       "      <td>136.0</td>\n",
       "    </tr>\n",
       "    <tr>\n",
       "      <th>86</th>\n",
       "      <td>2010-02-15</td>\n",
       "      <td>0.0</td>\n",
       "      <td>41</td>\n",
       "      <td>7</td>\n",
       "      <td>20.51</td>\n",
       "      <td>0.215333</td>\n",
       "      <td>0.595833</td>\n",
       "      <td>0.183292</td>\n",
       "      <td>1.445833</td>\n",
       "      <td>0.137250</td>\n",
       "      <td>3.625000</td>\n",
       "      <td>129.0</td>\n",
       "    </tr>\n",
       "    <tr>\n",
       "      <th>87</th>\n",
       "      <td>2010-02-16</td>\n",
       "      <td>0.0</td>\n",
       "      <td>43</td>\n",
       "      <td>8</td>\n",
       "      <td>20.51</td>\n",
       "      <td>0.210417</td>\n",
       "      <td>0.500000</td>\n",
       "      <td>0.183625</td>\n",
       "      <td>1.495833</td>\n",
       "      <td>0.136583</td>\n",
       "      <td>3.700000</td>\n",
       "      <td>130.0</td>\n",
       "    </tr>\n",
       "    <tr>\n",
       "      <th>88</th>\n",
       "      <td>2010-02-17</td>\n",
       "      <td>0.0</td>\n",
       "      <td>51</td>\n",
       "      <td>10</td>\n",
       "      <td>20.51</td>\n",
       "      <td>0.209708</td>\n",
       "      <td>0.500000</td>\n",
       "      <td>0.184667</td>\n",
       "      <td>1.437500</td>\n",
       "      <td>0.135625</td>\n",
       "      <td>3.645833</td>\n",
       "      <td>132.0</td>\n",
       "    </tr>\n",
       "    <tr>\n",
       "      <th>89</th>\n",
       "      <td>2010-02-18</td>\n",
       "      <td>0.0</td>\n",
       "      <td>51</td>\n",
       "      <td>16</td>\n",
       "      <td>20.50</td>\n",
       "      <td>0.210542</td>\n",
       "      <td>0.637500</td>\n",
       "      <td>0.185125</td>\n",
       "      <td>1.479167</td>\n",
       "      <td>0.135333</td>\n",
       "      <td>3.708333</td>\n",
       "      <td>135.0</td>\n",
       "    </tr>\n",
       "  </tbody>\n",
       "</table>\n",
       "</div>"
      ],
      "text/plain": [
       "         date  precip  max_temp  min_temp    gwl   sm_20cm   st_20cm  \\\n",
       "85 2010-02-14     0.0        36        13  20.52  0.205500  0.408333   \n",
       "86 2010-02-15     0.0        41         7  20.51  0.215333  0.595833   \n",
       "87 2010-02-16     0.0        43         8  20.51  0.210417  0.500000   \n",
       "88 2010-02-17     0.0        51        10  20.51  0.209708  0.500000   \n",
       "89 2010-02-18     0.0        51        16  20.50  0.210542  0.637500   \n",
       "\n",
       "     sm_50cm   st_50cm  sm_100cm  st_100cm  daily_discharge_cfs  \n",
       "85  0.182875  1.320833  0.135333  3.700000                136.0  \n",
       "86  0.183292  1.445833  0.137250  3.625000                129.0  \n",
       "87  0.183625  1.495833  0.136583  3.700000                130.0  \n",
       "88  0.184667  1.437500  0.135625  3.645833                132.0  \n",
       "89  0.185125  1.479167  0.135333  3.708333                135.0  "
      ]
     },
     "execution_count": 2,
     "metadata": {},
     "output_type": "execute_result"
    }
   ],
   "source": [
    "# Reading final datset\n",
    "\n",
    "df = pd.read_parquet('data/final_data/pueblo.parquet')\n",
    "\n",
    "df.head()"
   ]
  },
  {
   "cell_type": "markdown",
   "metadata": {},
   "source": [
    "### PCA Analysis on Soil Moisture Data"
   ]
  },
  {
   "cell_type": "code",
   "execution_count": 25,
   "metadata": {},
   "outputs": [],
   "source": [
    "# We can see that we have 3 different type of soil moisture data. \n",
    "# With PCA we aim to reduce the dimensionality of the data, here particularly the soil moisture data.\n",
    "\n",
    "# creating feature list for soil moisture data\n",
    "pca_sm_list = ['sm_20cm', 'sm_50cm', 'sm_100cm']\n",
    "\n",
    "X = df[pca_sm_list]\n",
    "\n",
    "# Standardizing the features\n",
    "X_scaled = StandardScaler().fit_transform(X)\n"
   ]
  },
  {
   "cell_type": "code",
   "execution_count": 26,
   "metadata": {},
   "outputs": [
    {
     "data": {
      "image/png": "[encoded data removed]",
      "text/plain": [
       "<Figure size 1000x500 with 1 Axes>"
      ]
     },
     "metadata": {},
     "output_type": "display_data"
    }
   ],
   "source": [
    "# Performing PCA with 3 components and plotting the explained variance\n",
    "\n",
    "pca = PCA(n_components=3)\n",
    "principalComponents = pca.fit_transform(X_scaled)\n",
    "principalDf = pd.DataFrame(data = principalComponents\n",
    "             , columns = ['principal component 1', 'principal component 2', 'principal component 3'])\n",
    "\n",
    "# Plotting the explained variance as bar plot\n",
    "plt.figure(figsize=(10,5))\n",
    "plt.bar(range(1,4), pca.explained_variance_ratio_)\n",
    "plt.xlabel('Principal Component')\n",
    "plt.ylabel('Explained Variance')\n",
    "plt.title('Explained Variance by Principal Component')\n",
    "plt.show()"
   ]
  },
  {
   "cell_type": "markdown",
   "metadata": {},
   "source": [
    "#### We can see from the plots, the first principal component explains ~70% of the variance for soil moisture data"
   ]
  },
  {
   "cell_type": "code",
   "execution_count": 17,
   "metadata": {},
   "outputs": [],
   "source": [
    "# We can use the first principal component to represent the soil moisture data.\n",
    "\n",
    "# Adding the first principal component to the dataframe\n",
    "df['sm_pca'] = principalDf['principal component 1']"
   ]
  },
  {
   "cell_type": "markdown",
   "metadata": {},
   "source": [
    "### PCA Analysis for Soil Temperature Data"
   ]
  },
  {
   "cell_type": "code",
   "execution_count": 19,
   "metadata": {},
   "outputs": [],
   "source": [
    "# We can see that we have 3 different type of soil temperature data. \n",
    "# With PCA we aim to reduce the dimensionality of the data, here particularly the soil temperature data.\n",
    "\n",
    "# creating feature list for soil moisture data\n",
    "pca_st_list = ['st_20cm', 'st_50cm', 'st_100cm']\n",
    "\n",
    "X = df[pca_st_list]\n",
    "\n",
    "# Standardizing the features\n",
    "X_scaled = StandardScaler().fit_transform(X)\n"
   ]
  },
  {
   "cell_type": "code",
   "execution_count": 24,
   "metadata": {},
   "outputs": [
    {
     "data": {
      "image/png": "[encoded data removed]",
      "text/plain": [
       "<Figure size 1000x500 with 1 Axes>"
      ]
     },
     "metadata": {},
     "output_type": "display_data"
    }
   ],
   "source": [
    "# Performing PCA with 3 components and plotting the explained variance\n",
    "\n",
    "pca = PCA(n_components=3)\n",
    "principalComponents = pca.fit_transform(X_scaled)\n",
    "principalDf = pd.DataFrame(data = principalComponents\n",
    "             , columns = ['principal component 1', 'principal component 2', 'principal component 3'])\n",
    "\n",
    "# Plotting the explained variance as bar plot\n",
    "plt.figure(figsize=(10,5))\n",
    "plt.bar(range(1,4), pca.explained_variance_ratio_)\n",
    "plt.xlabel('Principal Component')\n",
    "plt.ylabel('Explained Variance')\n",
    "plt.title('Explained Variance by Principal Component for Soil Temperature')\n",
    "plt.show()"
   ]
  },
  {
   "cell_type": "markdown",
   "metadata": {},
   "source": [
    "#### We can see from the plots, the first principal component explains  more than 90% of the variance for soil temperature data"
   ]
  },
  {
   "cell_type": "code",
   "execution_count": 22,
   "metadata": {},
   "outputs": [],
   "source": [
    "# We can use the first principal component to represent the soil temperature data.\n",
    "\n",
    "# Adding the first principal component to the dataframe\n",
    "df['st_pca'] = principalDf['principal component 1']"
   ]
  },
  {
   "cell_type": "code",
   "execution_count": 27,
   "metadata": {},
   "outputs": [],
   "source": [
    "# Reseting the index and dropping the old index\n",
    "df.reset_index(drop=True, inplace=True)"
   ]
  },
  {
   "cell_type": "code",
   "execution_count": 29,
   "metadata": {},
   "outputs": [],
   "source": [
    "# Saving the final dataframe with PCA data\n",
    "\n",
    "df.to_parquet('data/final_data/pueblo_pca.parquet')"
   ]
  }
 ],
 "metadata": {
  "kernelspec": {
   "display_name": "py3.8",
   "language": "python",
   "name": "python3"
  },
  "language_info": {
   "codemirror_mode": {
    "name": "ipython",
    "version": 3
   },
   "file_extension": ".py",
   "mimetype": "text/x-python",
   "name": "python",
   "nbconvert_exporter": "python",
   "pygments_lexer": "ipython3",
   "version": "3.8.18"
  }
 },
 "nbformat": 4,
 "nbformat_minor": 2
}
