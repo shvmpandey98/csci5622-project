{
 "cells": [
  {
   "cell_type": "code",
   "execution_count": 1,
   "metadata": {},
   "outputs": [],
   "source": [
    "# Importing the libraries\n",
    "\n",
    "import pandas as pd\n",
    "import numpy as np\n",
    "import matplotlib.pyplot as plt\n",
    "\n",
    "from sklearn.preprocessing import StandardScaler\n",
    "from sklearn.model_selection import train_test_split\n",
    "\n",
    "from sklearn.svm import SVC\n",
    "from sklearn.model_selection import GridSearchCV\n",
    "from sklearn.metrics import confusion_matrix, ConfusionMatrixDisplay, accuracy_score, f1_score, recall_score\n",
    "import shap"
   ]
  },
  {
   "cell_type": "code",
   "execution_count": 2,
   "metadata": {},
   "outputs": [],
   "source": [
    "# Reading the dataset\n",
    "df = pd.read_parquet('data/final_data/final_dataset.parquet')\n",
    "\n",
    "# Replacing NaN values with 0\n",
    "df = df.fillna(0)"
   ]
  },
  {
   "cell_type": "code",
   "execution_count": 3,
   "metadata": {},
   "outputs": [
    {
     "data": {
      "text/html": [
       "<div>\n",
       "<style scoped>\n",
       "    .dataframe tbody tr th:only-of-type {\n",
       "        vertical-align: middle;\n",
       "    }\n",
       "\n",
       "    .dataframe tbody tr th {\n",
       "        vertical-align: top;\n",
       "    }\n",
       "\n",
       "    .dataframe thead th {\n",
       "        text-align: right;\n",
       "    }\n",
       "</style>\n",
       "<table border=\"1\" class=\"dataframe\">\n",
       "  <thead>\n",
       "    <tr style=\"text-align: right;\">\n",
       "      <th></th>\n",
       "      <th>date</th>\n",
       "      <th>precip</th>\n",
       "      <th>max_temp</th>\n",
       "      <th>min_temp</th>\n",
       "      <th>gwl</th>\n",
       "      <th>daily_discharge_cfs</th>\n",
       "      <th>sm_pca</th>\n",
       "      <th>st_pca</th>\n",
       "      <th>target</th>\n",
       "    </tr>\n",
       "  </thead>\n",
       "  <tbody>\n",
       "    <tr>\n",
       "      <th>0</th>\n",
       "      <td>2010-02-14</td>\n",
       "      <td>0.0</td>\n",
       "      <td>36</td>\n",
       "      <td>13</td>\n",
       "      <td>20.52</td>\n",
       "      <td>136.0</td>\n",
       "      <td>3.619512</td>\n",
       "      <td>0.190574</td>\n",
       "      <td>0</td>\n",
       "    </tr>\n",
       "    <tr>\n",
       "      <th>1</th>\n",
       "      <td>2010-02-15</td>\n",
       "      <td>0.0</td>\n",
       "      <td>41</td>\n",
       "      <td>7</td>\n",
       "      <td>20.51</td>\n",
       "      <td>129.0</td>\n",
       "      <td>3.470118</td>\n",
       "      <td>0.209177</td>\n",
       "      <td>0</td>\n",
       "    </tr>\n",
       "    <tr>\n",
       "      <th>2</th>\n",
       "      <td>2010-02-16</td>\n",
       "      <td>0.0</td>\n",
       "      <td>43</td>\n",
       "      <td>8</td>\n",
       "      <td>20.51</td>\n",
       "      <td>130.0</td>\n",
       "      <td>3.433721</td>\n",
       "      <td>0.197542</td>\n",
       "      <td>0</td>\n",
       "    </tr>\n",
       "    <tr>\n",
       "      <th>3</th>\n",
       "      <td>2010-02-17</td>\n",
       "      <td>0.0</td>\n",
       "      <td>51</td>\n",
       "      <td>10</td>\n",
       "      <td>20.51</td>\n",
       "      <td>132.0</td>\n",
       "      <td>3.351107</td>\n",
       "      <td>0.135033</td>\n",
       "      <td>0</td>\n",
       "    </tr>\n",
       "    <tr>\n",
       "      <th>4</th>\n",
       "      <td>2010-02-18</td>\n",
       "      <td>0.0</td>\n",
       "      <td>51</td>\n",
       "      <td>16</td>\n",
       "      <td>20.50</td>\n",
       "      <td>135.0</td>\n",
       "      <td>3.238121</td>\n",
       "      <td>0.107690</td>\n",
       "      <td>0</td>\n",
       "    </tr>\n",
       "  </tbody>\n",
       "</table>\n",
       "</div>"
      ],
      "text/plain": [
       "        date  precip  max_temp  min_temp    gwl  daily_discharge_cfs  \\\n",
       "0 2010-02-14     0.0        36        13  20.52                136.0   \n",
       "1 2010-02-15     0.0        41         7  20.51                129.0   \n",
       "2 2010-02-16     0.0        43         8  20.51                130.0   \n",
       "3 2010-02-17     0.0        51        10  20.51                132.0   \n",
       "4 2010-02-18     0.0        51        16  20.50                135.0   \n",
       "\n",
       "     sm_pca    st_pca  target  \n",
       "0  3.619512  0.190574       0  \n",
       "1  3.470118  0.209177       0  \n",
       "2  3.433721  0.197542       0  \n",
       "3  3.351107  0.135033       0  \n",
       "4  3.238121  0.107690       0  "
      ]
     },
     "execution_count": 3,
     "metadata": {},
     "output_type": "execute_result"
    }
   ],
   "source": [
    "df.head()\n",
    "\n"
   ]
  },
  {
   "cell_type": "code",
   "execution_count": 4,
   "metadata": {},
   "outputs": [
    {
     "data": {
      "image/png": "[encoded data removed]",
      "text/plain": [
       "<Figure size 1000x600 with 1 Axes>"
      ]
     },
     "metadata": {},
     "output_type": "display_data"
    }
   ],
   "source": [
    "# Visualizing where target variable is 1 i.e there is drought\n",
    "\n",
    "plt.figure(figsize=(10, 6))\n",
    "plt.scatter(df[df['target'] == 1]['date'], df[df['target'] == 1]['target'])\n",
    "plt.title('Drought occurance')\n",
    "plt.xlabel('Date')\n",
    "plt.ylabel('Drought Condition as 1')\n",
    "plt.show()\n"
   ]
  },
  {
   "cell_type": "code",
   "execution_count": 5,
   "metadata": {},
   "outputs": [],
   "source": [
    "# following are the features list\n",
    "\n",
    "features = ['precip', 'max_temp', 'min_temp', 'gwl', 'daily_discharge_cfs','sm_pca', 'st_pca']\n",
    "target = 'target'"
   ]
  },
  {
   "cell_type": "code",
   "execution_count": 6,
   "metadata": {},
   "outputs": [
    {
     "data": {
      "text/html": [
       "<style type=\"text/css\">\n",
       "#T_763fa_row0_col0, #T_763fa_row1_col1, #T_763fa_row2_col2, #T_763fa_row3_col3, #T_763fa_row4_col4, #T_763fa_row5_col5, #T_763fa_row6_col6 {\n",
       "  background-color: #b40426;\n",
       "  color: #f1f1f1;\n",
       "}\n",
       "#T_763fa_row0_col1 {\n",
       "  background-color: #8fb1fe;\n",
       "  color: #000000;\n",
       "}\n",
       "#T_763fa_row0_col2 {\n",
       "  background-color: #b5cdfa;\n",
       "  color: #000000;\n",
       "}\n",
       "#T_763fa_row0_col3 {\n",
       "  background-color: #9dbdff;\n",
       "  color: #000000;\n",
       "}\n",
       "#T_763fa_row0_col4 {\n",
       "  background-color: #8caffe;\n",
       "  color: #000000;\n",
       "}\n",
       "#T_763fa_row0_col5, #T_763fa_row4_col3 {\n",
       "  background-color: #94b6ff;\n",
       "  color: #000000;\n",
       "}\n",
       "#T_763fa_row0_col6 {\n",
       "  background-color: #a2c1ff;\n",
       "  color: #000000;\n",
       "}\n",
       "#T_763fa_row1_col0, #T_763fa_row2_col5, #T_763fa_row3_col4, #T_763fa_row3_col6, #T_763fa_row5_col1, #T_763fa_row5_col2, #T_763fa_row6_col3 {\n",
       "  background-color: #3b4cc0;\n",
       "  color: #f1f1f1;\n",
       "}\n",
       "#T_763fa_row1_col2, #T_763fa_row2_col1 {\n",
       "  background-color: #d65244;\n",
       "  color: #f1f1f1;\n",
       "}\n",
       "#T_763fa_row1_col3 {\n",
       "  background-color: #b1cbfc;\n",
       "  color: #000000;\n",
       "}\n",
       "#T_763fa_row1_col4, #T_763fa_row6_col1 {\n",
       "  background-color: #4e68d8;\n",
       "  color: #f1f1f1;\n",
       "}\n",
       "#T_763fa_row1_col5 {\n",
       "  background-color: #3d50c3;\n",
       "  color: #f1f1f1;\n",
       "}\n",
       "#T_763fa_row1_col6 {\n",
       "  background-color: #5a78e4;\n",
       "  color: #f1f1f1;\n",
       "}\n",
       "#T_763fa_row2_col0 {\n",
       "  background-color: #6485ec;\n",
       "  color: #f1f1f1;\n",
       "}\n",
       "#T_763fa_row2_col3 {\n",
       "  background-color: #adc9fd;\n",
       "  color: #000000;\n",
       "}\n",
       "#T_763fa_row2_col4 {\n",
       "  background-color: #6a8bef;\n",
       "  color: #f1f1f1;\n",
       "}\n",
       "#T_763fa_row2_col6 {\n",
       "  background-color: #536edd;\n",
       "  color: #f1f1f1;\n",
       "}\n",
       "#T_763fa_row3_col0, #T_763fa_row5_col0 {\n",
       "  background-color: #3c4ec2;\n",
       "  color: #f1f1f1;\n",
       "}\n",
       "#T_763fa_row3_col1, #T_763fa_row5_col3 {\n",
       "  background-color: #a7c5fe;\n",
       "  color: #000000;\n",
       "}\n",
       "#T_763fa_row3_col2, #T_763fa_row4_col6 {\n",
       "  background-color: #a6c4fe;\n",
       "  color: #000000;\n",
       "}\n",
       "#T_763fa_row3_col5 {\n",
       "  background-color: #9fbfff;\n",
       "  color: #000000;\n",
       "}\n",
       "#T_763fa_row4_col0 {\n",
       "  background-color: #86a9fc;\n",
       "  color: #f1f1f1;\n",
       "}\n",
       "#T_763fa_row4_col1 {\n",
       "  background-color: #9abbff;\n",
       "  color: #000000;\n",
       "}\n",
       "#T_763fa_row4_col2 {\n",
       "  background-color: #b3cdfb;\n",
       "  color: #000000;\n",
       "}\n",
       "#T_763fa_row4_col5 {\n",
       "  background-color: #a1c0ff;\n",
       "  color: #000000;\n",
       "}\n",
       "#T_763fa_row5_col4 {\n",
       "  background-color: #516ddb;\n",
       "  color: #f1f1f1;\n",
       "}\n",
       "#T_763fa_row5_col6 {\n",
       "  background-color: #e3d9d3;\n",
       "  color: #000000;\n",
       "}\n",
       "#T_763fa_row6_col0 {\n",
       "  background-color: #4358cb;\n",
       "  color: #f1f1f1;\n",
       "}\n",
       "#T_763fa_row6_col2 {\n",
       "  background-color: #4a63d3;\n",
       "  color: #f1f1f1;\n",
       "}\n",
       "#T_763fa_row6_col4 {\n",
       "  background-color: #506bda;\n",
       "  color: #f1f1f1;\n",
       "}\n",
       "#T_763fa_row6_col5 {\n",
       "  background-color: #dfdbd9;\n",
       "  color: #000000;\n",
       "}\n",
       "</style>\n",
       "<table id=\"T_763fa\">\n",
       "  <thead>\n",
       "    <tr>\n",
       "      <th class=\"blank level0\" >&nbsp;</th>\n",
       "      <th id=\"T_763fa_level0_col0\" class=\"col_heading level0 col0\" >precip</th>\n",
       "      <th id=\"T_763fa_level0_col1\" class=\"col_heading level0 col1\" >max_temp</th>\n",
       "      <th id=\"T_763fa_level0_col2\" class=\"col_heading level0 col2\" >min_temp</th>\n",
       "      <th id=\"T_763fa_level0_col3\" class=\"col_heading level0 col3\" >gwl</th>\n",
       "      <th id=\"T_763fa_level0_col4\" class=\"col_heading level0 col4\" >daily_discharge_cfs</th>\n",
       "      <th id=\"T_763fa_level0_col5\" class=\"col_heading level0 col5\" >sm_pca</th>\n",
       "      <th id=\"T_763fa_level0_col6\" class=\"col_heading level0 col6\" >st_pca</th>\n",
       "    </tr>\n",
       "  </thead>\n",
       "  <tbody>\n",
       "    <tr>\n",
       "      <th id=\"T_763fa_level0_row0\" class=\"row_heading level0 row0\" >precip</th>\n",
       "      <td id=\"T_763fa_row0_col0\" class=\"data row0 col0\" >1.000000</td>\n",
       "      <td id=\"T_763fa_row0_col1\" class=\"data row0 col1\" >-0.032593</td>\n",
       "      <td id=\"T_763fa_row0_col2\" class=\"data row0 col2\" >0.104749</td>\n",
       "      <td id=\"T_763fa_row0_col3\" class=\"data row0 col3\" >-0.024576</td>\n",
       "      <td id=\"T_763fa_row0_col4\" class=\"data row0 col4\" >0.206089</td>\n",
       "      <td id=\"T_763fa_row0_col5\" class=\"data row0 col5\" >-0.024596</td>\n",
       "      <td id=\"T_763fa_row0_col6\" class=\"data row0 col6\" >-0.001298</td>\n",
       "    </tr>\n",
       "    <tr>\n",
       "      <th id=\"T_763fa_level0_row1\" class=\"row_heading level0 row1\" >max_temp</th>\n",
       "      <td id=\"T_763fa_row1_col0\" class=\"data row1 col0\" >-0.032593</td>\n",
       "      <td id=\"T_763fa_row1_col1\" class=\"data row1 col1\" >1.000000</td>\n",
       "      <td id=\"T_763fa_row1_col2\" class=\"data row1 col2\" >0.861268</td>\n",
       "      <td id=\"T_763fa_row1_col3\" class=\"data row1 col3\" >0.063881</td>\n",
       "      <td id=\"T_763fa_row1_col4\" class=\"data row1 col4\" >0.010227</td>\n",
       "      <td id=\"T_763fa_row1_col5\" class=\"data row1 col5\" >-0.390845</td>\n",
       "      <td id=\"T_763fa_row1_col6\" class=\"data row1 col6\" >-0.302978</td>\n",
       "    </tr>\n",
       "    <tr>\n",
       "      <th id=\"T_763fa_level0_row2\" class=\"row_heading level0 row2\" >min_temp</th>\n",
       "      <td id=\"T_763fa_row2_col0\" class=\"data row2 col0\" >0.104749</td>\n",
       "      <td id=\"T_763fa_row2_col1\" class=\"data row2 col1\" >0.861268</td>\n",
       "      <td id=\"T_763fa_row2_col2\" class=\"data row2 col2\" >1.000000</td>\n",
       "      <td id=\"T_763fa_row2_col3\" class=\"data row2 col3\" >0.046226</td>\n",
       "      <td id=\"T_763fa_row2_col4\" class=\"data row2 col4\" >0.101598</td>\n",
       "      <td id=\"T_763fa_row2_col5\" class=\"data row2 col5\" >-0.406750</td>\n",
       "      <td id=\"T_763fa_row2_col6\" class=\"data row2 col6\" >-0.333921</td>\n",
       "    </tr>\n",
       "    <tr>\n",
       "      <th id=\"T_763fa_level0_row3\" class=\"row_heading level0 row3\" >gwl</th>\n",
       "      <td id=\"T_763fa_row3_col0\" class=\"data row3 col0\" >-0.024576</td>\n",
       "      <td id=\"T_763fa_row3_col1\" class=\"data row3 col1\" >0.063881</td>\n",
       "      <td id=\"T_763fa_row3_col2\" class=\"data row3 col2\" >0.046226</td>\n",
       "      <td id=\"T_763fa_row3_col3\" class=\"data row3 col3\" >1.000000</td>\n",
       "      <td id=\"T_763fa_row3_col4\" class=\"data row3 col4\" >-0.056801</td>\n",
       "      <td id=\"T_763fa_row3_col5\" class=\"data row3 col5\" >0.019720</td>\n",
       "      <td id=\"T_763fa_row3_col6\" class=\"data row3 col6\" >-0.452011</td>\n",
       "    </tr>\n",
       "    <tr>\n",
       "      <th id=\"T_763fa_level0_row4\" class=\"row_heading level0 row4\" >daily_discharge_cfs</th>\n",
       "      <td id=\"T_763fa_row4_col0\" class=\"data row4 col0\" >0.206089</td>\n",
       "      <td id=\"T_763fa_row4_col1\" class=\"data row4 col1\" >0.010227</td>\n",
       "      <td id=\"T_763fa_row4_col2\" class=\"data row4 col2\" >0.101598</td>\n",
       "      <td id=\"T_763fa_row4_col3\" class=\"data row4 col3\" >-0.056801</td>\n",
       "      <td id=\"T_763fa_row4_col4\" class=\"data row4 col4\" >1.000000</td>\n",
       "      <td id=\"T_763fa_row4_col5\" class=\"data row4 col5\" >0.024787</td>\n",
       "      <td id=\"T_763fa_row4_col6\" class=\"data row4 col6\" >0.018521</td>\n",
       "    </tr>\n",
       "    <tr>\n",
       "      <th id=\"T_763fa_level0_row5\" class=\"row_heading level0 row5\" >sm_pca</th>\n",
       "      <td id=\"T_763fa_row5_col0\" class=\"data row5 col0\" >-0.024596</td>\n",
       "      <td id=\"T_763fa_row5_col1\" class=\"data row5 col1\" >-0.390845</td>\n",
       "      <td id=\"T_763fa_row5_col2\" class=\"data row5 col2\" >-0.406750</td>\n",
       "      <td id=\"T_763fa_row5_col3\" class=\"data row5 col3\" >0.019720</td>\n",
       "      <td id=\"T_763fa_row5_col4\" class=\"data row5 col4\" >0.024787</td>\n",
       "      <td id=\"T_763fa_row5_col5\" class=\"data row5 col5\" >1.000000</td>\n",
       "      <td id=\"T_763fa_row5_col6\" class=\"data row5 col6\" >0.312463</td>\n",
       "    </tr>\n",
       "    <tr>\n",
       "      <th id=\"T_763fa_level0_row6\" class=\"row_heading level0 row6\" >st_pca</th>\n",
       "      <td id=\"T_763fa_row6_col0\" class=\"data row6 col0\" >-0.001298</td>\n",
       "      <td id=\"T_763fa_row6_col1\" class=\"data row6 col1\" >-0.302978</td>\n",
       "      <td id=\"T_763fa_row6_col2\" class=\"data row6 col2\" >-0.333921</td>\n",
       "      <td id=\"T_763fa_row6_col3\" class=\"data row6 col3\" >-0.452011</td>\n",
       "      <td id=\"T_763fa_row6_col4\" class=\"data row6 col4\" >0.018521</td>\n",
       "      <td id=\"T_763fa_row6_col5\" class=\"data row6 col5\" >0.312463</td>\n",
       "      <td id=\"T_763fa_row6_col6\" class=\"data row6 col6\" >1.000000</td>\n",
       "    </tr>\n",
       "  </tbody>\n",
       "</table>\n"
      ],
      "text/plain": [
       "<pandas.io.formats.style.Styler at 0x107a453f0>"
      ]
     },
     "execution_count": 6,
     "metadata": {},
     "output_type": "execute_result"
    }
   ],
   "source": [
    "# Checking for multicollinearity between features\n",
    "\n",
    "corr = df[features].corr()\n",
    "corr.style.background_gradient(cmap='coolwarm')\n"
   ]
  },
  {
   "cell_type": "markdown",
   "metadata": {},
   "source": [
    "We can see that there is correlation between max_temp and min_temp, but as per the domain knowledge, we know that these two features are important and we should keep them"
   ]
  },
  {
   "cell_type": "code",
   "execution_count": 7,
   "metadata": {},
   "outputs": [
    {
     "data": {
      "text/html": [
       "<div>\n",
       "<style scoped>\n",
       "    .dataframe tbody tr th:only-of-type {\n",
       "        vertical-align: middle;\n",
       "    }\n",
       "\n",
       "    .dataframe tbody tr th {\n",
       "        vertical-align: top;\n",
       "    }\n",
       "\n",
       "    .dataframe thead th {\n",
       "        text-align: right;\n",
       "    }\n",
       "</style>\n",
       "<table border=\"1\" class=\"dataframe\">\n",
       "  <thead>\n",
       "    <tr style=\"text-align: right;\">\n",
       "      <th></th>\n",
       "      <th>precip</th>\n",
       "      <th>max_temp</th>\n",
       "      <th>min_temp</th>\n",
       "      <th>gwl</th>\n",
       "      <th>daily_discharge_cfs</th>\n",
       "      <th>sm_pca</th>\n",
       "      <th>st_pca</th>\n",
       "    </tr>\n",
       "  </thead>\n",
       "  <tbody>\n",
       "    <tr>\n",
       "      <th>0</th>\n",
       "      <td>0.0</td>\n",
       "      <td>36</td>\n",
       "      <td>13</td>\n",
       "      <td>20.52</td>\n",
       "      <td>136.0</td>\n",
       "      <td>3.619512</td>\n",
       "      <td>0.190574</td>\n",
       "    </tr>\n",
       "    <tr>\n",
       "      <th>1</th>\n",
       "      <td>0.0</td>\n",
       "      <td>41</td>\n",
       "      <td>7</td>\n",
       "      <td>20.51</td>\n",
       "      <td>129.0</td>\n",
       "      <td>3.470118</td>\n",
       "      <td>0.209177</td>\n",
       "    </tr>\n",
       "    <tr>\n",
       "      <th>2</th>\n",
       "      <td>0.0</td>\n",
       "      <td>43</td>\n",
       "      <td>8</td>\n",
       "      <td>20.51</td>\n",
       "      <td>130.0</td>\n",
       "      <td>3.433721</td>\n",
       "      <td>0.197542</td>\n",
       "    </tr>\n",
       "    <tr>\n",
       "      <th>3</th>\n",
       "      <td>0.0</td>\n",
       "      <td>51</td>\n",
       "      <td>10</td>\n",
       "      <td>20.51</td>\n",
       "      <td>132.0</td>\n",
       "      <td>3.351107</td>\n",
       "      <td>0.135033</td>\n",
       "    </tr>\n",
       "    <tr>\n",
       "      <th>4</th>\n",
       "      <td>0.0</td>\n",
       "      <td>51</td>\n",
       "      <td>16</td>\n",
       "      <td>20.50</td>\n",
       "      <td>135.0</td>\n",
       "      <td>3.238121</td>\n",
       "      <td>0.107690</td>\n",
       "    </tr>\n",
       "  </tbody>\n",
       "</table>\n",
       "</div>"
      ],
      "text/plain": [
       "   precip  max_temp  min_temp    gwl  daily_discharge_cfs    sm_pca    st_pca\n",
       "0     0.0        36        13  20.52                136.0  3.619512  0.190574\n",
       "1     0.0        41         7  20.51                129.0  3.470118  0.209177\n",
       "2     0.0        43         8  20.51                130.0  3.433721  0.197542\n",
       "3     0.0        51        10  20.51                132.0  3.351107  0.135033\n",
       "4     0.0        51        16  20.50                135.0  3.238121  0.107690"
      ]
     },
     "metadata": {},
     "output_type": "display_data"
    },
    {
     "data": {
      "text/html": [
       "<div>\n",
       "<style scoped>\n",
       "    .dataframe tbody tr th:only-of-type {\n",
       "        vertical-align: middle;\n",
       "    }\n",
       "\n",
       "    .dataframe tbody tr th {\n",
       "        vertical-align: top;\n",
       "    }\n",
       "\n",
       "    .dataframe thead th {\n",
       "        text-align: right;\n",
       "    }\n",
       "</style>\n",
       "<table border=\"1\" class=\"dataframe\">\n",
       "  <thead>\n",
       "    <tr style=\"text-align: right;\">\n",
       "      <th></th>\n",
       "      <th>target</th>\n",
       "    </tr>\n",
       "  </thead>\n",
       "  <tbody>\n",
       "    <tr>\n",
       "      <th>0</th>\n",
       "      <td>0</td>\n",
       "    </tr>\n",
       "    <tr>\n",
       "      <th>1</th>\n",
       "      <td>0</td>\n",
       "    </tr>\n",
       "    <tr>\n",
       "      <th>2</th>\n",
       "      <td>0</td>\n",
       "    </tr>\n",
       "    <tr>\n",
       "      <th>3</th>\n",
       "      <td>0</td>\n",
       "    </tr>\n",
       "    <tr>\n",
       "      <th>4</th>\n",
       "      <td>0</td>\n",
       "    </tr>\n",
       "  </tbody>\n",
       "</table>\n",
       "</div>"
      ],
      "text/plain": [
       "   target\n",
       "0       0\n",
       "1       0\n",
       "2       0\n",
       "3       0\n",
       "4       0"
      ]
     },
     "metadata": {},
     "output_type": "display_data"
    }
   ],
   "source": [
    "# Displaying the data before splitting\n",
    "\n",
    "display(df[features].head())\n",
    "\n",
    "display(df[[target]].head())"
   ]
  },
  {
   "cell_type": "code",
   "execution_count": 8,
   "metadata": {},
   "outputs": [],
   "source": [
    "# Splitting the dataset into the Training set and Test set\n",
    "\n",
    "X_train, X_test, y_train, y_test = train_test_split(df[features], df[target], test_size = 0.2, random_state = 0)"
   ]
  },
  {
   "cell_type": "code",
   "execution_count": 9,
   "metadata": {},
   "outputs": [
    {
     "data": {
      "text/plain": [
       "target\n",
       "0    2218\n",
       "1    1686\n",
       "Name: count, dtype: int64"
      ]
     },
     "metadata": {},
     "output_type": "display_data"
    },
    {
     "data": {
      "text/plain": [
       "target\n",
       "0    536\n",
       "1    441\n",
       "Name: count, dtype: int64"
      ]
     },
     "metadata": {},
     "output_type": "display_data"
    }
   ],
   "source": [
    "# No. of instance with 1 in target variable for training set\n",
    "display(y_train.value_counts())\n",
    "\n",
    "# No. of instance with 1 in target variable for test set\n",
    "display(y_test.value_counts())"
   ]
  },
  {
   "cell_type": "code",
   "execution_count": 10,
   "metadata": {},
   "outputs": [
    {
     "data": {
      "text/html": [
       "<div>\n",
       "<style scoped>\n",
       "    .dataframe tbody tr th:only-of-type {\n",
       "        vertical-align: middle;\n",
       "    }\n",
       "\n",
       "    .dataframe tbody tr th {\n",
       "        vertical-align: top;\n",
       "    }\n",
       "\n",
       "    .dataframe thead th {\n",
       "        text-align: right;\n",
       "    }\n",
       "</style>\n",
       "<table border=\"1\" class=\"dataframe\">\n",
       "  <thead>\n",
       "    <tr style=\"text-align: right;\">\n",
       "      <th></th>\n",
       "      <th>precip</th>\n",
       "      <th>max_temp</th>\n",
       "      <th>min_temp</th>\n",
       "      <th>gwl</th>\n",
       "      <th>daily_discharge_cfs</th>\n",
       "      <th>sm_pca</th>\n",
       "      <th>st_pca</th>\n",
       "    </tr>\n",
       "  </thead>\n",
       "  <tbody>\n",
       "    <tr>\n",
       "      <th>641</th>\n",
       "      <td>0.00</td>\n",
       "      <td>57</td>\n",
       "      <td>11</td>\n",
       "      <td>21.00</td>\n",
       "      <td>145.0</td>\n",
       "      <td>0.494067</td>\n",
       "      <td>-1.976446</td>\n",
       "    </tr>\n",
       "    <tr>\n",
       "      <th>333</th>\n",
       "      <td>0.11</td>\n",
       "      <td>35</td>\n",
       "      <td>19</td>\n",
       "      <td>20.84</td>\n",
       "      <td>93.7</td>\n",
       "      <td>-0.995163</td>\n",
       "      <td>0.067906</td>\n",
       "    </tr>\n",
       "    <tr>\n",
       "      <th>33</th>\n",
       "      <td>0.08</td>\n",
       "      <td>40</td>\n",
       "      <td>25</td>\n",
       "      <td>20.44</td>\n",
       "      <td>120.0</td>\n",
       "      <td>-0.179378</td>\n",
       "      <td>1.826560</td>\n",
       "    </tr>\n",
       "    <tr>\n",
       "      <th>3909</th>\n",
       "      <td>0.00</td>\n",
       "      <td>41</td>\n",
       "      <td>8</td>\n",
       "      <td>21.71</td>\n",
       "      <td>96.9</td>\n",
       "      <td>-0.002604</td>\n",
       "      <td>1.751204</td>\n",
       "    </tr>\n",
       "    <tr>\n",
       "      <th>4193</th>\n",
       "      <td>0.00</td>\n",
       "      <td>62</td>\n",
       "      <td>32</td>\n",
       "      <td>22.13</td>\n",
       "      <td>150.0</td>\n",
       "      <td>0.943268</td>\n",
       "      <td>-1.191578</td>\n",
       "    </tr>\n",
       "  </tbody>\n",
       "</table>\n",
       "</div>"
      ],
      "text/plain": [
       "      precip  max_temp  min_temp    gwl  daily_discharge_cfs    sm_pca  \\\n",
       "641     0.00        57        11  21.00                145.0  0.494067   \n",
       "333     0.11        35        19  20.84                 93.7 -0.995163   \n",
       "33      0.08        40        25  20.44                120.0 -0.179378   \n",
       "3909    0.00        41         8  21.71                 96.9 -0.002604   \n",
       "4193    0.00        62        32  22.13                150.0  0.943268   \n",
       "\n",
       "        st_pca  \n",
       "641  -1.976446  \n",
       "333   0.067906  \n",
       "33    1.826560  \n",
       "3909  1.751204  \n",
       "4193 -1.191578  "
      ]
     },
     "metadata": {},
     "output_type": "display_data"
    },
    {
     "data": {
      "text/html": [
       "<div>\n",
       "<style scoped>\n",
       "    .dataframe tbody tr th:only-of-type {\n",
       "        vertical-align: middle;\n",
       "    }\n",
       "\n",
       "    .dataframe tbody tr th {\n",
       "        vertical-align: top;\n",
       "    }\n",
       "\n",
       "    .dataframe thead th {\n",
       "        text-align: right;\n",
       "    }\n",
       "</style>\n",
       "<table border=\"1\" class=\"dataframe\">\n",
       "  <thead>\n",
       "    <tr style=\"text-align: right;\">\n",
       "      <th></th>\n",
       "      <th>target</th>\n",
       "    </tr>\n",
       "  </thead>\n",
       "  <tbody>\n",
       "    <tr>\n",
       "      <th>641</th>\n",
       "      <td>1</td>\n",
       "    </tr>\n",
       "    <tr>\n",
       "      <th>333</th>\n",
       "      <td>0</td>\n",
       "    </tr>\n",
       "    <tr>\n",
       "      <th>33</th>\n",
       "      <td>0</td>\n",
       "    </tr>\n",
       "    <tr>\n",
       "      <th>3909</th>\n",
       "      <td>1</td>\n",
       "    </tr>\n",
       "    <tr>\n",
       "      <th>4193</th>\n",
       "      <td>1</td>\n",
       "    </tr>\n",
       "  </tbody>\n",
       "</table>\n",
       "</div>"
      ],
      "text/plain": [
       "      target\n",
       "641        1\n",
       "333        0\n",
       "33         0\n",
       "3909       1\n",
       "4193       1"
      ]
     },
     "metadata": {},
     "output_type": "display_data"
    },
    {
     "data": {
      "text/html": [
       "<div>\n",
       "<style scoped>\n",
       "    .dataframe tbody tr th:only-of-type {\n",
       "        vertical-align: middle;\n",
       "    }\n",
       "\n",
       "    .dataframe tbody tr th {\n",
       "        vertical-align: top;\n",
       "    }\n",
       "\n",
       "    .dataframe thead th {\n",
       "        text-align: right;\n",
       "    }\n",
       "</style>\n",
       "<table border=\"1\" class=\"dataframe\">\n",
       "  <thead>\n",
       "    <tr style=\"text-align: right;\">\n",
       "      <th></th>\n",
       "      <th>precip</th>\n",
       "      <th>max_temp</th>\n",
       "      <th>min_temp</th>\n",
       "      <th>gwl</th>\n",
       "      <th>daily_discharge_cfs</th>\n",
       "      <th>sm_pca</th>\n",
       "      <th>st_pca</th>\n",
       "    </tr>\n",
       "  </thead>\n",
       "  <tbody>\n",
       "    <tr>\n",
       "      <th>2857</th>\n",
       "      <td>0.01</td>\n",
       "      <td>47</td>\n",
       "      <td>22</td>\n",
       "      <td>21.16</td>\n",
       "      <td>170.0</td>\n",
       "      <td>2.224886</td>\n",
       "      <td>2.490720</td>\n",
       "    </tr>\n",
       "    <tr>\n",
       "      <th>2373</th>\n",
       "      <td>0.00</td>\n",
       "      <td>75</td>\n",
       "      <td>30</td>\n",
       "      <td>21.73</td>\n",
       "      <td>100.0</td>\n",
       "      <td>0.893778</td>\n",
       "      <td>-1.718663</td>\n",
       "    </tr>\n",
       "    <tr>\n",
       "      <th>1065</th>\n",
       "      <td>0.00</td>\n",
       "      <td>48</td>\n",
       "      <td>17</td>\n",
       "      <td>21.00</td>\n",
       "      <td>78.3</td>\n",
       "      <td>0.303675</td>\n",
       "      <td>0.066434</td>\n",
       "    </tr>\n",
       "    <tr>\n",
       "      <th>2287</th>\n",
       "      <td>0.00</td>\n",
       "      <td>97</td>\n",
       "      <td>60</td>\n",
       "      <td>21.31</td>\n",
       "      <td>112.0</td>\n",
       "      <td>-0.647494</td>\n",
       "      <td>-0.541322</td>\n",
       "    </tr>\n",
       "    <tr>\n",
       "      <th>1675</th>\n",
       "      <td>0.00</td>\n",
       "      <td>80</td>\n",
       "      <td>42</td>\n",
       "      <td>21.45</td>\n",
       "      <td>163.0</td>\n",
       "      <td>-0.127969</td>\n",
       "      <td>-1.816134</td>\n",
       "    </tr>\n",
       "  </tbody>\n",
       "</table>\n",
       "</div>"
      ],
      "text/plain": [
       "      precip  max_temp  min_temp    gwl  daily_discharge_cfs    sm_pca  \\\n",
       "2857    0.01        47        22  21.16                170.0  2.224886   \n",
       "2373    0.00        75        30  21.73                100.0  0.893778   \n",
       "1065    0.00        48        17  21.00                 78.3  0.303675   \n",
       "2287    0.00        97        60  21.31                112.0 -0.647494   \n",
       "1675    0.00        80        42  21.45                163.0 -0.127969   \n",
       "\n",
       "        st_pca  \n",
       "2857  2.490720  \n",
       "2373 -1.718663  \n",
       "1065  0.066434  \n",
       "2287 -0.541322  \n",
       "1675 -1.816134  "
      ]
     },
     "metadata": {},
     "output_type": "display_data"
    },
    {
     "data": {
      "text/html": [
       "<div>\n",
       "<style scoped>\n",
       "    .dataframe tbody tr th:only-of-type {\n",
       "        vertical-align: middle;\n",
       "    }\n",
       "\n",
       "    .dataframe tbody tr th {\n",
       "        vertical-align: top;\n",
       "    }\n",
       "\n",
       "    .dataframe thead th {\n",
       "        text-align: right;\n",
       "    }\n",
       "</style>\n",
       "<table border=\"1\" class=\"dataframe\">\n",
       "  <thead>\n",
       "    <tr style=\"text-align: right;\">\n",
       "      <th></th>\n",
       "      <th>target</th>\n",
       "    </tr>\n",
       "  </thead>\n",
       "  <tbody>\n",
       "    <tr>\n",
       "      <th>2857</th>\n",
       "      <td>0</td>\n",
       "    </tr>\n",
       "    <tr>\n",
       "      <th>2373</th>\n",
       "      <td>0</td>\n",
       "    </tr>\n",
       "    <tr>\n",
       "      <th>1065</th>\n",
       "      <td>1</td>\n",
       "    </tr>\n",
       "    <tr>\n",
       "      <th>2287</th>\n",
       "      <td>0</td>\n",
       "    </tr>\n",
       "    <tr>\n",
       "      <th>1675</th>\n",
       "      <td>0</td>\n",
       "    </tr>\n",
       "  </tbody>\n",
       "</table>\n",
       "</div>"
      ],
      "text/plain": [
       "      target\n",
       "2857       0\n",
       "2373       0\n",
       "1065       1\n",
       "2287       0\n",
       "1675       0"
      ]
     },
     "metadata": {},
     "output_type": "display_data"
    }
   ],
   "source": [
    "# display the data after splitting\n",
    "\n",
    "# Training set\n",
    "display(pd.DataFrame(X_train).head())\n",
    "display(pd.DataFrame(y_train).head())\n",
    "\n",
    "# Test set\n",
    "display(pd.DataFrame(X_test).head())\n",
    "display(pd.DataFrame(y_test).head())\n"
   ]
  },
  {
   "cell_type": "code",
   "execution_count": 11,
   "metadata": {},
   "outputs": [],
   "source": [
    "# Scaling the features\n",
    "# Feature scaling is performed to ensure that the model is not biased towards the features with higher magnitude\n",
    "\n",
    "sc = StandardScaler()\n",
    "X_train = sc.fit_transform(X_train)"
   ]
  },
  {
   "cell_type": "code",
   "execution_count": 12,
   "metadata": {},
   "outputs": [
    {
     "data": {
      "text/html": [
       "<div>\n",
       "<style scoped>\n",
       "    .dataframe tbody tr th:only-of-type {\n",
       "        vertical-align: middle;\n",
       "    }\n",
       "\n",
       "    .dataframe tbody tr th {\n",
       "        vertical-align: top;\n",
       "    }\n",
       "\n",
       "    .dataframe thead th {\n",
       "        text-align: right;\n",
       "    }\n",
       "</style>\n",
       "<table border=\"1\" class=\"dataframe\">\n",
       "  <thead>\n",
       "    <tr style=\"text-align: right;\">\n",
       "      <th></th>\n",
       "      <th>0</th>\n",
       "      <th>1</th>\n",
       "      <th>2</th>\n",
       "      <th>3</th>\n",
       "      <th>4</th>\n",
       "      <th>5</th>\n",
       "      <th>6</th>\n",
       "    </tr>\n",
       "  </thead>\n",
       "  <tbody>\n",
       "    <tr>\n",
       "      <th>0</th>\n",
       "      <td>-0.236413</td>\n",
       "      <td>-0.703677</td>\n",
       "      <td>-1.472493</td>\n",
       "      <td>-0.789317</td>\n",
       "      <td>-0.043247</td>\n",
       "      <td>0.398965</td>\n",
       "      <td>-1.188105</td>\n",
       "    </tr>\n",
       "    <tr>\n",
       "      <th>1</th>\n",
       "      <td>0.574686</td>\n",
       "      <td>-1.801402</td>\n",
       "      <td>-1.034528</td>\n",
       "      <td>-1.157828</td>\n",
       "      <td>-0.211894</td>\n",
       "      <td>-0.693305</td>\n",
       "      <td>0.026048</td>\n",
       "    </tr>\n",
       "    <tr>\n",
       "      <th>2</th>\n",
       "      <td>0.353477</td>\n",
       "      <td>-1.551919</td>\n",
       "      <td>-0.706055</td>\n",
       "      <td>-2.079106</td>\n",
       "      <td>-0.125433</td>\n",
       "      <td>-0.094971</td>\n",
       "      <td>1.070523</td>\n",
       "    </tr>\n",
       "    <tr>\n",
       "      <th>3</th>\n",
       "      <td>-0.236413</td>\n",
       "      <td>-1.502023</td>\n",
       "      <td>-1.636730</td>\n",
       "      <td>0.845953</td>\n",
       "      <td>-0.201374</td>\n",
       "      <td>0.034684</td>\n",
       "      <td>1.025768</td>\n",
       "    </tr>\n",
       "    <tr>\n",
       "      <th>4</th>\n",
       "      <td>-0.236413</td>\n",
       "      <td>-0.454194</td>\n",
       "      <td>-0.322836</td>\n",
       "      <td>1.813295</td>\n",
       "      <td>-0.026809</td>\n",
       "      <td>0.728431</td>\n",
       "      <td>-0.721967</td>\n",
       "    </tr>\n",
       "  </tbody>\n",
       "</table>\n",
       "</div>"
      ],
      "text/plain": [
       "          0         1         2         3         4         5         6\n",
       "0 -0.236413 -0.703677 -1.472493 -0.789317 -0.043247  0.398965 -1.188105\n",
       "1  0.574686 -1.801402 -1.034528 -1.157828 -0.211894 -0.693305  0.026048\n",
       "2  0.353477 -1.551919 -0.706055 -2.079106 -0.125433 -0.094971  1.070523\n",
       "3 -0.236413 -1.502023 -1.636730  0.845953 -0.201374  0.034684  1.025768\n",
       "4 -0.236413 -0.454194 -0.322836  1.813295 -0.026809  0.728431 -0.721967"
      ]
     },
     "metadata": {},
     "output_type": "display_data"
    }
   ],
   "source": [
    "# Displaying the scaled training set\n",
    "\n",
    "display(pd.DataFrame(X_train).head())"
   ]
  },
  {
   "cell_type": "markdown",
   "metadata": {},
   "source": [
    "### SVM model with Default Hyperparameters"
   ]
  },
  {
   "cell_type": "code",
   "execution_count": 13,
   "metadata": {},
   "outputs": [],
   "source": [
    "# Model building\n",
    "classifier_linear = SVC(kernel='linear')\n",
    "classifier_poly = SVC(kernel='poly')\n",
    "classifier_rbf = SVC(kernel='rbf')\n",
    "\n",
    "# Fitting the model\n",
    "classifier_linear.fit(X_train, y_train)\n",
    "classifier_poly.fit(X_train, y_train)\n",
    "classifier_rbf.fit(X_train, y_train)\n",
    "\n",
    "# Predicting the Test set results\n",
    "pred_linear = classifier_linear.predict(sc.transform(X_test))\n",
    "pred_poly = classifier_poly.predict(sc.transform(X_test))\n",
    "pred_rbf = classifier_rbf.predict(sc.transform(X_test))"
   ]
  },
  {
   "cell_type": "code",
   "execution_count": 14,
   "metadata": {},
   "outputs": [
    {
     "data": {
      "text/plain": [
       "Text(0.5, 1.0, 'Confusion Matrix for Simple SVM with Linear Kernel')"
      ]
     },
     "execution_count": 14,
     "metadata": {},
     "output_type": "execute_result"
    },
    {
     "data": {
      "image/png": "[encoded data removed]",
      "text/plain": [
       "<Figure size 640x480 with 2 Axes>"
      ]
     },
     "metadata": {},
     "output_type": "display_data"
    }
   ],
   "source": [
    "# Generating the confusion matrix for the linear kernel\n",
    "\n",
    "cm = confusion_matrix(y_test, pred_linear)\n",
    "\n",
    "disp = ConfusionMatrixDisplay(confusion_matrix=cm, display_labels=classifier_linear.classes_)\n",
    "disp.plot()\n",
    "disp.ax_.set_title('Confusion Matrix for Simple SVM with Linear Kernel')"
   ]
  },
  {
   "cell_type": "code",
   "execution_count": 15,
   "metadata": {},
   "outputs": [
    {
     "data": {
      "text/plain": [
       "Text(0.5, 1.0, 'Confusion Matrix for Simple SVM with Poly Kernel')"
      ]
     },
     "execution_count": 15,
     "metadata": {},
     "output_type": "execute_result"
    },
    {
     "data": {
      "image/png": "[encoded data removed]",
      "text/plain": [
       "<Figure size 640x480 with 2 Axes>"
      ]
     },
     "metadata": {},
     "output_type": "display_data"
    }
   ],
   "source": [
    "# Generating the confusion matrix for the poly kernel\n",
    "\n",
    "cm = confusion_matrix(y_test, pred_poly)\n",
    "\n",
    "disp = ConfusionMatrixDisplay(confusion_matrix=cm, display_labels=classifier_poly.classes_)\n",
    "disp.plot()\n",
    "disp.ax_.set_title('Confusion Matrix for Simple SVM with Poly Kernel')"
   ]
  },
  {
   "cell_type": "code",
   "execution_count": 16,
   "metadata": {},
   "outputs": [
    {
     "data": {
      "text/plain": [
       "Text(0.5, 1.0, 'Confusion Matrix for Simple SVM with RBF Kernel')"
      ]
     },
     "execution_count": 16,
     "metadata": {},
     "output_type": "execute_result"
    },
    {
     "data": {
      "image/png": "[encoded data removed]",
      "text/plain": [
       "<Figure size 640x480 with 2 Axes>"
      ]
     },
     "metadata": {},
     "output_type": "display_data"
    }
   ],
   "source": [
    "# Generating the confusion matrix for the RBF kernel\n",
    "\n",
    "cm = confusion_matrix(y_test, pred_rbf)\n",
    "\n",
    "disp = ConfusionMatrixDisplay(confusion_matrix=cm, display_labels=classifier_rbf.classes_)\n",
    "disp.plot()\n",
    "disp.ax_.set_title('Confusion Matrix for Simple SVM with RBF Kernel')"
   ]
  },
  {
   "cell_type": "code",
   "execution_count": 17,
   "metadata": {},
   "outputs": [
    {
     "data": {
      "text/html": [
       "<div>\n",
       "<style scoped>\n",
       "    .dataframe tbody tr th:only-of-type {\n",
       "        vertical-align: middle;\n",
       "    }\n",
       "\n",
       "    .dataframe tbody tr th {\n",
       "        vertical-align: top;\n",
       "    }\n",
       "\n",
       "    .dataframe thead th {\n",
       "        text-align: right;\n",
       "    }\n",
       "</style>\n",
       "<table border=\"1\" class=\"dataframe\">\n",
       "  <thead>\n",
       "    <tr style=\"text-align: right;\">\n",
       "      <th></th>\n",
       "      <th>Kernel</th>\n",
       "      <th>Accuracy</th>\n",
       "      <th>F1 Score</th>\n",
       "      <th>Recall</th>\n",
       "    </tr>\n",
       "  </thead>\n",
       "  <tbody>\n",
       "    <tr>\n",
       "      <th>0</th>\n",
       "      <td>Linear</td>\n",
       "      <td>0.570113</td>\n",
       "      <td>0.433962</td>\n",
       "      <td>0.365079</td>\n",
       "    </tr>\n",
       "    <tr>\n",
       "      <th>1</th>\n",
       "      <td>Poly</td>\n",
       "      <td>0.677584</td>\n",
       "      <td>0.556962</td>\n",
       "      <td>0.448980</td>\n",
       "    </tr>\n",
       "    <tr>\n",
       "      <th>2</th>\n",
       "      <td>RBF</td>\n",
       "      <td>0.750256</td>\n",
       "      <td>0.709524</td>\n",
       "      <td>0.675737</td>\n",
       "    </tr>\n",
       "  </tbody>\n",
       "</table>\n",
       "</div>"
      ],
      "text/plain": [
       "   Kernel  Accuracy  F1 Score    Recall\n",
       "0  Linear  0.570113  0.433962  0.365079\n",
       "1    Poly  0.677584  0.556962  0.448980\n",
       "2     RBF  0.750256  0.709524  0.675737"
      ]
     },
     "metadata": {},
     "output_type": "display_data"
    }
   ],
   "source": [
    "# Calculating the accuracy, f1 score and recall for all the kernels\n",
    "\n",
    "accuracy_linear = accuracy_score(y_test, pred_linear)\n",
    "f1_linear = f1_score(y_test, pred_linear)\n",
    "recall_linear = recall_score(y_test, pred_linear)\n",
    "\n",
    "accuracy_poly = accuracy_score(y_test, pred_poly)\n",
    "f1_poly = f1_score(y_test, pred_poly)\n",
    "recall_poly = recall_score(y_test, pred_poly)\n",
    "\n",
    "accuracy_rbf = accuracy_score(y_test, pred_rbf)\n",
    "f1_rbf = f1_score(y_test, pred_rbf)\n",
    "recall_rbf = recall_score(y_test, pred_rbf)\n",
    "\n",
    "# Adding the scores to a dataframe\n",
    "\n",
    "scores = pd.DataFrame({'Kernel': ['Linear', 'Poly', 'RBF']})\n",
    "scores['Accuracy'] = [accuracy_linear, accuracy_poly, accuracy_rbf]\n",
    "scores['F1 Score'] = [f1_linear, f1_poly, f1_rbf]\n",
    "scores['Recall'] = [recall_linear, recall_poly, recall_rbf]\n",
    "\n",
    "# Displaying the scores\n",
    "display(scores)"
   ]
  },
  {
   "cell_type": "markdown",
   "metadata": {},
   "source": [
    "### Model Optimization"
   ]
  },
  {
   "cell_type": "markdown",
   "metadata": {},
   "source": [
    "#### Optimizing the model using GridSearchCV for Accuracy Metric"
   ]
  },
  {
   "cell_type": "code",
   "execution_count": 18,
   "metadata": {},
   "outputs": [
    {
     "name": "stdout",
     "output_type": "stream",
     "text": [
      "Best Accuracy: 0.8301678798609744\n",
      "Best Parameters: {'C': 10, 'kernel': 'rbf'}\n"
     ]
    }
   ],
   "source": [
    "# Implementing SVM with GridSearchCV for hyperparameter tuning of linear, rbf and poly kernels\n",
    "\n",
    "params_grid = [{'C': [0.1, 0.5, 1, 5, 10], 'kernel': ['linear']},\n",
    "               {'C': [0.1, 0.5, 1, 5, 10], 'kernel': ['rbf']},\n",
    "               {'C': [0.1, 0.5, 1, 5, 10], 'kernel': ['poly'], 'degree': [2, 3, 4]}]\n",
    "\n",
    "classifier = SVC()\n",
    "grid_search = GridSearchCV(estimator = classifier,\n",
    "                           param_grid = params_grid,\n",
    "                           scoring = 'accuracy', # accuracy is used as scoring metric\n",
    "                           cv = 10,\n",
    "                           n_jobs = -1)\n",
    "\n",
    "grid_search.fit(X_train, y_train)\n",
    "\n",
    "# Displaying the best parameters\n",
    "best_accuracy = grid_search.best_score_\n",
    "best_parameters = grid_search.best_params_\n",
    "print('Best Accuracy:', best_accuracy)\n",
    "print('Best Parameters:', best_parameters)"
   ]
  },
  {
   "cell_type": "markdown",
   "metadata": {},
   "source": [
    "#### Optimizing the model using GridSearchCV for Recall Metric"
   ]
  },
  {
   "cell_type": "code",
   "execution_count": 19,
   "metadata": {},
   "outputs": [
    {
     "name": "stdout",
     "output_type": "stream",
     "text": [
      "Best Recall: 0.798901098901099\n",
      "Best Parameters: {'C': 10, 'kernel': 'rbf'}\n"
     ]
    }
   ],
   "source": [
    "# Implementing SVM with GridSearchCV for hyperparameter tuning of linear, rbf and poly kernels\n",
    "\n",
    "params_grid = [{'C': [0.1, 0.5, 1, 5, 10], 'kernel': ['linear']},\n",
    "               {'C': [0.1, 0.5, 1, 5, 10], 'kernel': ['rbf']},\n",
    "               {'C': [0.1, 0.5, 1, 5, 10], 'kernel': ['poly'], 'degree': [2, 3, 4]}]\n",
    "\n",
    "classifier = SVC()\n",
    "grid_search = GridSearchCV(estimator = classifier,\n",
    "                           param_grid = params_grid,\n",
    "                           scoring = 'recall', # Recall is used as scoring metric\n",
    "                           cv = 10,\n",
    "                           n_jobs = -1)\n",
    "\n",
    "grid_search.fit(X_train, y_train)\n",
    "\n",
    "# Displaying the best parameters\n",
    "best_recall = grid_search.best_score_\n",
    "best_parameters = grid_search.best_params_\n",
    "print('Best Recall:', best_recall)\n",
    "print('Best Parameters:', best_parameters)"
   ]
  },
  {
   "cell_type": "markdown",
   "metadata": {},
   "source": [
    "#### Optimizing the model using GridSearchCV for F1 Metric"
   ]
  },
  {
   "cell_type": "code",
   "execution_count": 20,
   "metadata": {},
   "outputs": [
    {
     "name": "stdout",
     "output_type": "stream",
     "text": [
      "Best F1: 0.8023516662712753\n",
      "Best Parameters: {'C': 10, 'kernel': 'rbf'}\n"
     ]
    }
   ],
   "source": [
    "# Implementing SVM with GridSearchCV for hyperparameter tuning of linear, rbf and poly kernels\n",
    "\n",
    "params_grid = [{'C': [0.1, 0.5, 1, 5, 10], 'kernel': ['linear']},\n",
    "               {'C': [0.1, 0.5, 1, 5, 10], 'kernel': ['rbf']},\n",
    "               {'C': [0.1, 0.5, 1, 5, 10], 'kernel': ['poly'], 'degree': [2, 3, 4]}]\n",
    "\n",
    "\n",
    "classifier = SVC()\n",
    "grid_search = GridSearchCV(estimator = classifier,\n",
    "                           param_grid = params_grid,\n",
    "                           scoring = 'f1', # F1 is used as scoring metric\n",
    "                           cv = 10,\n",
    "                           n_jobs = -1)\n",
    "\n",
    "grid_search.fit(X_train, y_train)\n",
    "\n",
    "# Displaying the best parameters\n",
    "best_f1 = grid_search.best_score_\n",
    "best_parameters = grid_search.best_params_\n",
    "print('Best F1:', best_f1)\n",
    "print('Best Parameters:', best_parameters)"
   ]
  },
  {
   "cell_type": "markdown",
   "metadata": {},
   "source": [
    "### Fitting Best Model"
   ]
  },
  {
   "cell_type": "code",
   "execution_count": 21,
   "metadata": {},
   "outputs": [],
   "source": [
    "# Fitting best SVM model to the training set (kernel = 'rbf', C = 10)\n",
    "\n",
    "classifier = SVC(kernel = 'rbf', C = 10)\n",
    "classifier.fit(X_train, y_train)\n",
    "\n",
    "# Predicting the Test set results\n",
    "preds = classifier.predict(sc.transform(X_test))"
   ]
  },
  {
   "cell_type": "code",
   "execution_count": 22,
   "metadata": {},
   "outputs": [
    {
     "data": {
      "text/plain": [
       "Text(0.5, 1.0, 'Confusion Matrix for Hyperparameter Tuned SVM')"
      ]
     },
     "execution_count": 22,
     "metadata": {},
     "output_type": "execute_result"
    },
    {
     "data": {
      "image/png": "[encoded data removed]",
      "text/plain": [
       "<Figure size 640x480 with 2 Axes>"
      ]
     },
     "metadata": {},
     "output_type": "display_data"
    }
   ],
   "source": [
    "# Generating the confusion matrix\n",
    "\n",
    "cm = confusion_matrix(y_test, preds)\n",
    "\n",
    "disp = ConfusionMatrixDisplay(confusion_matrix=cm, display_labels=classifier.classes_)\n",
    "disp.plot()\n",
    "disp.ax_.set_title('Confusion Matrix for Hyperparameter Tuned SVM')"
   ]
  },
  {
   "cell_type": "code",
   "execution_count": 23,
   "metadata": {},
   "outputs": [
    {
     "name": "stdout",
     "output_type": "stream",
     "text": [
      "Accuracy: 0.8300921187308086\n",
      "F1 Score: 0.8134831460674158\n",
      "Recall Score: 0.8208616780045351\n"
     ]
    }
   ],
   "source": [
    "# Accuracy, F1 Score and Recall Score\n",
    "\n",
    "accuracy = accuracy_score(y_test, preds)\n",
    "f1 = f1_score(y_test, preds)\n",
    "recall = recall_score(y_test, preds)\n",
    "\n",
    "print(f'Accuracy: {accuracy}')\n",
    "print(f'F1 Score: {f1}')\n",
    "print(f'Recall Score: {recall}')"
   ]
  }
 ],
 "metadata": {
  "kernelspec": {
   "display_name": "py3.10",
   "language": "python",
   "name": "python3"
  },
  "language_info": {
   "codemirror_mode": {
    "name": "ipython",
    "version": 3
   },
   "file_extension": ".py",
   "mimetype": "text/x-python",
   "name": "python",
   "nbconvert_exporter": "python",
   "pygments_lexer": "ipython3",
   "version": "3.10.13"
  }
 },
 "nbformat": 4,
 "nbformat_minor": 2
}
